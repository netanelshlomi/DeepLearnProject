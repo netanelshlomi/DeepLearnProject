{
  "cells": [
    {
      "cell_type": "code",
      "execution_count": 21,
      "metadata": {
        "colab": {
          "base_uri": "https://localhost:8080/"
        },
        "collapsed": true,
        "id": "ClsnqbPGdSEN",
        "outputId": "7f5bba44-907a-4498-cb24-b37c0d80d59c"
      },
      "outputs": [
        {
          "name": "stdout",
          "output_type": "stream",
          "text": [
            "Requirement already satisfied: peft in /usr/local/lib/python3.10/dist-packages (0.12.0)\n",
            "Requirement already satisfied: transformers in /usr/local/lib/python3.10/dist-packages (4.42.4)\n",
            "Requirement already satisfied: torch in /usr/local/lib/python3.10/dist-packages (2.3.1+cu121)\n",
            "Requirement already satisfied: accelerate in /usr/local/lib/python3.10/dist-packages (0.32.1)\n",
            "Requirement already satisfied: numpy>=1.17 in /usr/local/lib/python3.10/dist-packages (from peft) (1.26.4)\n",
            "Requirement already satisfied: packaging>=20.0 in /usr/local/lib/python3.10/dist-packages (from peft) (24.1)\n",
            "Requirement already satisfied: psutil in /usr/local/lib/python3.10/dist-packages (from peft) (5.9.5)\n",
            "Requirement already satisfied: pyyaml in /usr/local/lib/python3.10/dist-packages (from peft) (6.0.2)\n",
            "Requirement already satisfied: tqdm in /usr/local/lib/python3.10/dist-packages (from peft) (4.66.5)\n",
            "Requirement already satisfied: safetensors in /usr/local/lib/python3.10/dist-packages (from peft) (0.4.4)\n",
            "Requirement already satisfied: huggingface-hub>=0.17.0 in /usr/local/lib/python3.10/dist-packages (from peft) (0.23.5)\n",
            "Requirement already satisfied: filelock in /usr/local/lib/python3.10/dist-packages (from transformers) (3.15.4)\n",
            "Requirement already satisfied: regex!=2019.12.17 in /usr/local/lib/python3.10/dist-packages (from transformers) (2024.5.15)\n",
            "Requirement already satisfied: requests in /usr/local/lib/python3.10/dist-packages (from transformers) (2.32.3)\n",
            "Requirement already satisfied: tokenizers<0.20,>=0.19 in /usr/local/lib/python3.10/dist-packages (from transformers) (0.19.1)\n",
            "Requirement already satisfied: typing-extensions>=4.8.0 in /usr/local/lib/python3.10/dist-packages (from torch) (4.12.2)\n",
            "Requirement already satisfied: sympy in /usr/local/lib/python3.10/dist-packages (from torch) (1.13.1)\n",
            "Requirement already satisfied: networkx in /usr/local/lib/python3.10/dist-packages (from torch) (3.3)\n",
            "Requirement already satisfied: jinja2 in /usr/local/lib/python3.10/dist-packages (from torch) (3.1.4)\n",
            "Requirement already satisfied: fsspec in /usr/local/lib/python3.10/dist-packages (from torch) (2024.6.1)\n",
            "Requirement already satisfied: nvidia-cuda-nvrtc-cu12==12.1.105 in /usr/local/lib/python3.10/dist-packages (from torch) (12.1.105)\n",
            "Requirement already satisfied: nvidia-cuda-runtime-cu12==12.1.105 in /usr/local/lib/python3.10/dist-packages (from torch) (12.1.105)\n",
            "Requirement already satisfied: nvidia-cuda-cupti-cu12==12.1.105 in /usr/local/lib/python3.10/dist-packages (from torch) (12.1.105)\n",
            "Requirement already satisfied: nvidia-cudnn-cu12==8.9.2.26 in /usr/local/lib/python3.10/dist-packages (from torch) (8.9.2.26)\n",
            "Requirement already satisfied: nvidia-cublas-cu12==12.1.3.1 in /usr/local/lib/python3.10/dist-packages (from torch) (12.1.3.1)\n",
            "Requirement already satisfied: nvidia-cufft-cu12==11.0.2.54 in /usr/local/lib/python3.10/dist-packages (from torch) (11.0.2.54)\n",
            "Requirement already satisfied: nvidia-curand-cu12==10.3.2.106 in /usr/local/lib/python3.10/dist-packages (from torch) (10.3.2.106)\n",
            "Requirement already satisfied: nvidia-cusolver-cu12==11.4.5.107 in /usr/local/lib/python3.10/dist-packages (from torch) (11.4.5.107)\n",
            "Requirement already satisfied: nvidia-cusparse-cu12==12.1.0.106 in /usr/local/lib/python3.10/dist-packages (from torch) (12.1.0.106)\n",
            "Requirement already satisfied: nvidia-nccl-cu12==2.20.5 in /usr/local/lib/python3.10/dist-packages (from torch) (2.20.5)\n",
            "Requirement already satisfied: nvidia-nvtx-cu12==12.1.105 in /usr/local/lib/python3.10/dist-packages (from torch) (12.1.105)\n",
            "Requirement already satisfied: triton==2.3.1 in /usr/local/lib/python3.10/dist-packages (from torch) (2.3.1)\n",
            "Requirement already satisfied: nvidia-nvjitlink-cu12 in /usr/local/lib/python3.10/dist-packages (from nvidia-cusolver-cu12==11.4.5.107->torch) (12.6.20)\n",
            "Requirement already satisfied: MarkupSafe>=2.0 in /usr/local/lib/python3.10/dist-packages (from jinja2->torch) (2.1.5)\n",
            "Requirement already satisfied: charset-normalizer<4,>=2 in /usr/local/lib/python3.10/dist-packages (from requests->transformers) (3.3.2)\n",
            "Requirement already satisfied: idna<4,>=2.5 in /usr/local/lib/python3.10/dist-packages (from requests->transformers) (3.7)\n",
            "Requirement already satisfied: urllib3<3,>=1.21.1 in /usr/local/lib/python3.10/dist-packages (from requests->transformers) (2.0.7)\n",
            "Requirement already satisfied: certifi>=2017.4.17 in /usr/local/lib/python3.10/dist-packages (from requests->transformers) (2024.7.4)\n",
            "Requirement already satisfied: mpmath<1.4,>=1.1.0 in /usr/local/lib/python3.10/dist-packages (from sympy->torch) (1.3.0)\n"
          ]
        }
      ],
      "source": [
        "!pip install peft transformers torch accelerate #datasets\n",
        "\n",
        "import os\n",
        "import torch\n",
        "import numpy as np\n",
        "import pandas as pd\n",
        "import seaborn as sns\n",
        "import transformers\n",
        "import matplotlib.pyplot as plt\n",
        "\n",
        "from tqdm import tqdm\n",
        "from sklearn.metrics import accuracy_score, top_k_accuracy_score, confusion_matrix, classification_report\n",
        "from torch.utils.data import DataLoader, Dataset\n",
        "from transformers import DataCollatorForLanguageModeling, GPT2Tokenizer, GPT2LMHeadModel\n",
        "from peft import get_peft_model, LoraConfig #, TaskType  # LoRa support"
      ]
    },
    {
      "cell_type": "code",
      "execution_count": 22,
      "metadata": {
        "colab": {
          "base_uri": "https://localhost:8080/"
        },
        "id": "6kxP4W9vhJx9",
        "outputId": "47a03451-26cd-4b09-d1dc-a7201f4bfb5e"
      },
      "outputs": [
        {
          "name": "stdout",
          "output_type": "stream",
          "text": [
            "Drive already mounted at /content/drive; to attempt to forcibly remount, call drive.mount(\"/content/drive\", force_remount=True).\n"
          ]
        }
      ],
      "source": [
        "# mount drive\n",
        "from google.colab import drive\n",
        "drive.mount('/content/drive')"
      ]
    },
    {
      "cell_type": "code",
      "execution_count": 23,
      "metadata": {
        "id": "VhkzIeeMdSEO"
      },
      "outputs": [],
      "source": [
        "class YouTubeTitlesDatasetV3(Dataset):\n",
        "    def __init__(self, csv_file, tokenizer, max_length=128, transform=None):\n",
        "        # Load the dataset into a pandas DataFrame\n",
        "        self.data = pd.read_csv(csv_file)\n",
        "        self.tokenizer = tokenizer  # Tokenizer passed during initialization\n",
        "        self.max_length = max_length  # Max length for tokenization\n",
        "        self.transform = transform\n",
        "\n",
        "    def __len__(self):\n",
        "        return len(self.data)\n",
        "\n",
        "    def __getitem__(self, idx):\n",
        "        if torch.is_tensor(idx):\n",
        "            idx = idx.tolist()\n",
        "\n",
        "        title = self.data.iloc[idx, 0]  # YouTube video title\n",
        "        label = self.data.iloc[idx, 1]  # Classification tag (0 or 1)\n",
        "        sentence = self.data.iloc[idx, 2]  # Sentence including the title\n",
        "\n",
        "        # Tokenize the sentence\n",
        "        encodings = self.tokenizer(sentence, padding='max_length', truncation=True, max_length=self.max_length, return_tensors=\"pt\")\n",
        "\n",
        "        # Return input_ids and attention_mask along with label\n",
        "        input_ids = encodings['input_ids'].squeeze()  # Tokenized input\n",
        "        attention_mask = encodings['attention_mask'].squeeze()  # Attention mask\n",
        "\n",
        "        sample = {\n",
        "            'input_ids': input_ids,\n",
        "            'attention_mask': attention_mask,\n",
        "            'label': torch.tensor(label)\n",
        "        }\n",
        "\n",
        "        if self.transform:\n",
        "            sample = self.transform(sample)\n",
        "\n",
        "        return sample\n"
      ]
    },
    {
      "cell_type": "code",
      "execution_count": 24,
      "metadata": {
        "id": "_YEh3omodSEO"
      },
      "outputs": [],
      "source": [
        "# Initialize the tokenizer\n",
        "tokenizer = GPT2Tokenizer.from_pretrained('gpt2')\n",
        "tokenizer.pad_token = tokenizer.eos_token\n",
        "tokenizer.padding_side = \"right\"\n",
        "\n",
        "# Tokenize the data\n",
        "def tokenize_function(examples):\n",
        "    return tokenizer(examples['sentence'], padding='max_length', truncation=True, max_length=128)\n",
        "\n",
        "# train_encodings = train_df['sentence'].apply(lambda x: tokenizer(x, padding='max_length', truncation=True, max_length=128))\n",
        "# val_encodings = val_df['sentence'].apply(lambda x: tokenizer(x, padding='max_length', truncation=True, max_length=128))\n",
        "# test_encodings = test_df['sentence'].apply(lambda x: tokenizer(x, padding='max_length', truncation=True, max_length=128))"
      ]
    },
    {
      "cell_type": "code",
      "execution_count": 25,
      "metadata": {
        "id": "41ZZ5czQdSEO"
      },
      "outputs": [],
      "source": [
        "train_dataset = YouTubeTitlesDatasetV3('/content/drive/MyDrive/Deep/GPT2_FT/train_Dataset_v3.csv', tokenizer)\n",
        "val_dataset = YouTubeTitlesDatasetV3('/content/drive/MyDrive/Deep/GPT2_FT/val_Dataset_v3.csv', tokenizer)\n",
        "test_dataset = YouTubeTitlesDatasetV3('/content/drive/MyDrive/Deep/GPT2_FT/test_Dataset_v3.csv', tokenizer)"
      ]
    },
    {
      "cell_type": "code",
      "execution_count": null,
      "metadata": {
        "id": "q60EOVEPdSEP"
      },
      "outputs": [],
      "source": [
        "# version with early stopping in case need to run train again\n",
        "\n",
        "def train(model, train_dataloader, val_dataloader, device, batch_size=4, num_epochs=3, learning_rate=2e-4, patience=3, checkpoint_dir='checkpoints'):\n",
        "    model.train()\n",
        "    optimizer = torch.optim.AdamW(model.parameters(), lr=learning_rate)\n",
        "\n",
        "    best_val_loss = float('inf')  # Best validation loss initialized to infinity\n",
        "    patience_counter = 0  # Counts how many epochs since improvement\n",
        "\n",
        "    # Create checkpoint directory if it doesn't exist\n",
        "    if not os.path.exists(checkpoint_dir):\n",
        "        os.makedirs(checkpoint_dir)\n",
        "\n",
        "    for epoch in range(num_epochs):\n",
        "        correct = 0\n",
        "        total = 0\n",
        "        total_loss = 0\n",
        "\n",
        "        # Progress bar for training\n",
        "        progress_bar = tqdm(train_dataloader, desc=f\"Epoch {epoch+1}/{num_epochs}\", leave=False)\n",
        "\n",
        "        for batch in progress_bar:\n",
        "            input_ids = batch['input_ids'].to(device)\n",
        "            attention_mask = batch['attention_mask'].to(device)\n",
        "            labels = batch['label'].to(device)\n",
        "\n",
        "            optimizer.zero_grad()\n",
        "\n",
        "            outputs = model(input_ids=input_ids, attention_mask=attention_mask, labels=input_ids)\n",
        "            loss = outputs.loss\n",
        "            loss.backward()\n",
        "            optimizer.step()\n",
        "\n",
        "            total_loss += loss.item()\n",
        "\n",
        "            predictions = outputs.logits.argmax(dim=-1)\n",
        "            correct += (predictions == input_ids).sum().item()\n",
        "            total += input_ids.numel()\n",
        "\n",
        "            avg_loss = total_loss / (progress_bar.n + 1)\n",
        "            progress_bar.set_postfix({\"loss\": f\"{avg_loss:.4f}\"})\n",
        "\n",
        "        epoch_accuracy = correct / total\n",
        "        avg_loss = total_loss / len(train_dataloader)\n",
        "        print(f\"Epoch [{epoch+1}/{num_epochs}], Loss: {avg_loss:.4f}, Accuracy: {epoch_accuracy:.4f}\")\n",
        "\n",
        "        # Evaluate on validation set at the end of each epoch\n",
        "        val_loss = evaluate_loss(model, val_dataloader, device)\n",
        "        print(f\"Validation Loss: {val_loss:.4f}\")\n",
        "\n",
        "        # Early stopping and checkpoint saving\n",
        "        if val_loss < best_val_loss:\n",
        "            best_val_loss = val_loss\n",
        "            patience_counter = 0  # Reset patience counter if improvement is seen\n",
        "\n",
        "            # Save checkpoint (model state and optimizer state)\n",
        "            checkpoint_path = os.path.join(checkpoint_dir, f\"best_model_epoch_{epoch+1}.pt\")\n",
        "            torch.save({\n",
        "                'epoch': epoch + 1,\n",
        "                'model_state_dict': model.state_dict(),\n",
        "                'optimizer_state_dict': optimizer.state_dict(),\n",
        "                'loss': val_loss,\n",
        "            }, checkpoint_path)\n",
        "            print(f\"Checkpoint saved at {checkpoint_path}\")\n",
        "        else:\n",
        "            patience_counter += 1  # Increment counter if no improvement\n",
        "            if patience_counter >= patience:\n",
        "                print(f\"Early stopping triggered. No improvement in validation loss for {patience} epochs.\")\n",
        "                break\n",
        "\n",
        "def evaluate_loss(model, eval_dataloader, device):\n",
        "    model.eval()\n",
        "    total_loss = 0\n",
        "    total_batches = len(eval_dataloader)\n",
        "\n",
        "    with torch.no_grad():\n",
        "        for batch in eval_dataloader:\n",
        "            input_ids = batch['input_ids'].to(device)\n",
        "            attention_mask = batch['attention_mask'].to(device)\n",
        "            labels = batch['label'].to(device)\n",
        "\n",
        "            outputs = model(input_ids=input_ids, attention_mask=attention_mask, labels=input_ids)\n",
        "            loss = outputs.loss\n",
        "\n",
        "            total_loss += loss.item()\n",
        "\n",
        "    avg_loss = total_loss / total_batches\n",
        "    model.train()  # Set the model back to training mode after evaluation\n",
        "    return avg_loss\n"
      ]
    },
    {
      "cell_type": "code",
      "execution_count": 26,
      "metadata": {
        "colab": {
          "base_uri": "https://localhost:8080/"
        },
        "id": "5ESklQNLdSEP",
        "outputId": "49c8433a-461e-4e34-f6d6-c95fa89c7886"
      },
      "outputs": [
        {
          "name": "stderr",
          "output_type": "stream",
          "text": [
            "/usr/local/lib/python3.10/dist-packages/peft/tuners/lora/layer.py:1091: UserWarning: fan_in_fan_out is set to False but the target module is `Conv1D`. Setting fan_in_fan_out to True.\n",
            "  warnings.warn(\n"
          ]
        }
      ],
      "source": [
        "# Initialize the model\n",
        "device = torch.device('cuda' if torch.cuda.is_available() else 'cpu')\n",
        "\n",
        "model = GPT2LMHeadModel.from_pretrained('gpt2')\n",
        "model.to(device)\n",
        "\n",
        "# LoRa\n",
        "config = LoraConfig(\n",
        "    r=16,\n",
        "    lora_alpha=32,\n",
        "    lora_dropout=0.05,\n",
        "    bias=\"none\",\n",
        "    task_type=\"CAUSAL_LM\"\n",
        ")\n",
        "\n",
        "model = get_peft_model(model, config)"
      ]
    },
    {
      "cell_type": "code",
      "execution_count": 27,
      "metadata": {
        "colab": {
          "base_uri": "https://localhost:8080/"
        },
        "id": "c8JIdKnwIuX5",
        "outputId": "184cd443-e5ae-460a-a942-05ea9038c2a8"
      },
      "outputs": [
        {
          "name": "stdout",
          "output_type": "stream",
          "text": [
            "PeftModelForCausalLM(\n",
            "  (base_model): LoraModel(\n",
            "    (model): GPT2LMHeadModel(\n",
            "      (transformer): GPT2Model(\n",
            "        (wte): Embedding(50257, 768)\n",
            "        (wpe): Embedding(1024, 768)\n",
            "        (drop): Dropout(p=0.1, inplace=False)\n",
            "        (h): ModuleList(\n",
            "          (0-11): 12 x GPT2Block(\n",
            "            (ln_1): LayerNorm((768,), eps=1e-05, elementwise_affine=True)\n",
            "            (attn): GPT2SdpaAttention(\n",
            "              (c_attn): lora.Linear(\n",
            "                (base_layer): Conv1D()\n",
            "                (lora_dropout): ModuleDict(\n",
            "                  (default): Dropout(p=0.05, inplace=False)\n",
            "                )\n",
            "                (lora_A): ModuleDict(\n",
            "                  (default): Linear(in_features=768, out_features=16, bias=False)\n",
            "                )\n",
            "                (lora_B): ModuleDict(\n",
            "                  (default): Linear(in_features=16, out_features=2304, bias=False)\n",
            "                )\n",
            "                (lora_embedding_A): ParameterDict()\n",
            "                (lora_embedding_B): ParameterDict()\n",
            "                (lora_magnitude_vector): ModuleDict()\n",
            "              )\n",
            "              (c_proj): Conv1D()\n",
            "              (attn_dropout): Dropout(p=0.1, inplace=False)\n",
            "              (resid_dropout): Dropout(p=0.1, inplace=False)\n",
            "            )\n",
            "            (ln_2): LayerNorm((768,), eps=1e-05, elementwise_affine=True)\n",
            "            (mlp): GPT2MLP(\n",
            "              (c_fc): Conv1D()\n",
            "              (c_proj): Conv1D()\n",
            "              (act): NewGELUActivation()\n",
            "              (dropout): Dropout(p=0.1, inplace=False)\n",
            "            )\n",
            "          )\n",
            "        )\n",
            "        (ln_f): LayerNorm((768,), eps=1e-05, elementwise_affine=True)\n",
            "      )\n",
            "      (lm_head): Linear(in_features=768, out_features=50257, bias=False)\n",
            "    )\n",
            "  )\n",
            ")\n"
          ]
        }
      ],
      "source": [
        "print(model)"
      ]
    },
    {
      "cell_type": "code",
      "execution_count": 28,
      "metadata": {
        "colab": {
          "base_uri": "https://localhost:8080/"
        },
        "id": "TFpnBEsH3a5h",
        "outputId": "68f4fa2b-8fe4-4cd6-c9db-052d8b39f3d5"
      },
      "outputs": [
        {
          "name": "stdout",
          "output_type": "stream",
          "text": [
            "trainable params: 589824 || all params: 125029632 || trainable%: 0.47%\n"
          ]
        }
      ],
      "source": [
        "def print_trainable_parameters(model):\n",
        "    \"\"\"\n",
        "    Prints the number of trainable parameters in the model.\n",
        "    \"\"\"\n",
        "    trainable_params = 0\n",
        "    all_param = 0\n",
        "    for _, param in model.named_parameters():\n",
        "        all_param += param.numel()\n",
        "        if param.requires_grad:\n",
        "            trainable_params += param.numel()\n",
        "    print(\n",
        "        f\"trainable params: {trainable_params} || all params: {all_param} || trainable%: {100 * trainable_params / all_param:.2f}%\"\n",
        "    )\n",
        "\n",
        "\n",
        "print_trainable_parameters(model)"
      ]
    },
    {
      "cell_type": "markdown",
      "metadata": {
        "id": "2vOXBmz1AWA0"
      },
      "source": [
        "##Training"
      ]
    },
    {
      "cell_type": "code",
      "execution_count": null,
      "metadata": {
        "id": "nJ7Dl-vudSEQ",
        "outputId": "0228e862-dcf2-48b3-adc2-5a32730f71e3"
      },
      "outputs": [
        {
          "name": "stderr",
          "output_type": "stream",
          "text": [
            "                                                                            \r"
          ]
        },
        {
          "name": "stdout",
          "output_type": "stream",
          "text": [
            "Epoch [1/30], Loss: 0.5986, Accuracy: 0.7840\n",
            "Validation Loss: 0.6637\n",
            "Checkpoint saved at checkpoints/best_model_epoch_1.pt\n"
          ]
        },
        {
          "name": "stderr",
          "output_type": "stream",
          "text": [
            "                                                                            \r"
          ]
        },
        {
          "name": "stdout",
          "output_type": "stream",
          "text": [
            "Epoch [2/30], Loss: 0.5665, Accuracy: 0.7840\n",
            "Validation Loss: 0.6669\n"
          ]
        },
        {
          "name": "stderr",
          "output_type": "stream",
          "text": [
            "                                                                            \r"
          ]
        },
        {
          "name": "stdout",
          "output_type": "stream",
          "text": [
            "Epoch [3/30], Loss: 0.5545, Accuracy: 0.7840\n",
            "Validation Loss: 0.6686\n"
          ]
        },
        {
          "name": "stderr",
          "output_type": "stream",
          "text": [
            "                                                                            \r"
          ]
        },
        {
          "name": "stdout",
          "output_type": "stream",
          "text": [
            "Epoch [4/30], Loss: 0.5460, Accuracy: 0.7840\n",
            "Validation Loss: 0.6576\n",
            "Checkpoint saved at checkpoints/best_model_epoch_4.pt\n"
          ]
        },
        {
          "name": "stderr",
          "output_type": "stream",
          "text": [
            "                                                                            \r"
          ]
        },
        {
          "name": "stdout",
          "output_type": "stream",
          "text": [
            "Epoch [5/30], Loss: 0.5392, Accuracy: 0.7840\n",
            "Validation Loss: 0.6748\n"
          ]
        },
        {
          "name": "stderr",
          "output_type": "stream",
          "text": [
            "                                                                            \r"
          ]
        },
        {
          "name": "stdout",
          "output_type": "stream",
          "text": [
            "Epoch [6/30], Loss: 0.5334, Accuracy: 0.7840\n",
            "Validation Loss: 0.6584\n"
          ]
        },
        {
          "name": "stderr",
          "output_type": "stream",
          "text": [
            "                                                                            \r"
          ]
        },
        {
          "name": "stdout",
          "output_type": "stream",
          "text": [
            "Epoch [7/30], Loss: 0.5284, Accuracy: 0.7840\n",
            "Validation Loss: 0.6405\n",
            "Checkpoint saved at checkpoints/best_model_epoch_7.pt\n"
          ]
        },
        {
          "name": "stderr",
          "output_type": "stream",
          "text": [
            "                                                                            \r"
          ]
        },
        {
          "name": "stdout",
          "output_type": "stream",
          "text": [
            "Epoch [8/30], Loss: 0.5247, Accuracy: 0.7839\n",
            "Validation Loss: 0.6486\n"
          ]
        },
        {
          "name": "stderr",
          "output_type": "stream",
          "text": [
            "                                                                            \r"
          ]
        },
        {
          "name": "stdout",
          "output_type": "stream",
          "text": [
            "Epoch [9/30], Loss: 0.5205, Accuracy: 0.7840\n",
            "Validation Loss: 0.6417\n"
          ]
        },
        {
          "name": "stderr",
          "output_type": "stream",
          "text": [
            "                                                                             \r"
          ]
        },
        {
          "name": "stdout",
          "output_type": "stream",
          "text": [
            "Epoch [10/30], Loss: 0.5168, Accuracy: 0.7840\n",
            "Validation Loss: 0.6542\n",
            "Early stopping triggered. No improvement in validation loss for 3 epochs.\n"
          ]
        }
      ],
      "source": [
        "train_dataloader = DataLoader(train_dataset, batch_size=16, shuffle=True)\n",
        "val_dataloader = DataLoader(val_dataset, batch_size=16, shuffle=False)\n",
        "\n",
        "\n",
        "# Train the model with early stopping\n",
        "train(model, train_dataloader, val_dataloader, device, batch_size=16, num_epochs=30, patience=3)\n"
      ]
    },
    {
      "cell_type": "markdown",
      "metadata": {
        "id": "gXIyyaQlAHFE"
      },
      "source": [
        "##Load and evaluate trained model"
      ]
    },
    {
      "cell_type": "code",
      "execution_count": null,
      "metadata": {
        "colab": {
          "base_uri": "https://localhost:8080/"
        },
        "id": "jOkSfNSCi6PJ",
        "outputId": "5af7f52d-a323-46ad-9ee4-1c67a1d6a9ef"
      },
      "outputs": [
        {
          "name": "stderr",
          "output_type": "stream",
          "text": [
            "/usr/local/lib/python3.10/dist-packages/peft/tuners/lora/layer.py:1091: UserWarning: fan_in_fan_out is set to False but the target module is `Conv1D`. Setting fan_in_fan_out to True.\n",
            "  warnings.warn(\n"
          ]
        }
      ],
      "source": [
        "\n",
        "# Load the GPT-2 model and tokenizer\n",
        "model_name = \"gpt2\"\n",
        "tokenizer = GPT2Tokenizer.from_pretrained(model_name)\n",
        "\n",
        "# Check if CUDA is available and move the model to the GPU if it is, otherwise use the CPU\n",
        "device = torch.device(\"cuda\" if torch.cuda.is_available() else \"cpu\")\n",
        "model = GPT2LMHeadModel.from_pretrained(model_name).to(device)\n",
        "\n",
        "# LoRa\n",
        "config = LoraConfig(\n",
        "    r=16,\n",
        "    lora_alpha=32,\n",
        "    lora_dropout=0.05,\n",
        "    bias=\"none\",\n",
        "    task_type=\"CAUSAL_LM\"\n",
        ")\n",
        "\n",
        "model = get_peft_model(model, config)\n",
        "\n",
        "# Load the checkpoint (state_dict)\n",
        "load_checkpoint = torch.load('/content/drive/MyDrive/Deep/GPT2_FT/trained_model_GPT2_final.pth', map_location=device)\n",
        "model.load_state_dict(load_checkpoint['model'])\n",
        "model.pad_token_id = tokenizer.eos_token_id\n",
        "\n",
        "\n",
        "# Function to generate a response from GPT-2\n",
        "def generate_response(prompt):\n",
        "    # Tokenize the input prompt and move it to the same device as the model\n",
        "    inputs = tokenizer.encode(prompt, return_tensors='pt').to(device)\n",
        "\n",
        "    # Generate the output using GPT-2\n",
        "    outputs = model.generate(inputs, max_length=128, num_return_sequences=1, no_repeat_ngram_size=2,\n",
        "                             pad_token_id=tokenizer.eos_token_id)\n",
        "\n",
        "    # Decode the output and return it as a string\n",
        "    response = tokenizer.decode(outputs[0], skip_special_tokens=True)\n",
        "    return response\n"
      ]
    },
    {
      "cell_type": "code",
      "execution_count": null,
      "metadata": {
        "colab": {
          "base_uri": "https://localhost:8080/",
          "height": 374
        },
        "id": "CWrIZJHYnENZ",
        "outputId": "ca416481-ba16-4059-c49c-8944ecd01066"
      },
      "outputs": [
        {
          "data": {
            "application/vnd.google.colaboratory.intrinsic+json": {
              "summary": "{\n  \"name\": \"test_data\",\n  \"rows\": 9695,\n  \"fields\": [\n    {\n      \"column\": \"title\",\n      \"properties\": {\n        \"dtype\": \"string\",\n        \"num_unique_values\": 9695,\n        \"samples\": [\n          \"FNAF JR\\u2019s PART 1 - HUNTED BY POSSESSED ANIMATRONICS.\",\n          \"Busting KLOMBO Myths That Are 100% Real\",\n          \"DBFZ - Lobby ShenaniganZ 5\"\n        ],\n        \"semantic_type\": \"\",\n        \"description\": \"\"\n      }\n    },\n    {\n      \"column\": \"tags\",\n      \"properties\": {\n        \"dtype\": \"number\",\n        \"std\": 0,\n        \"min\": 0,\n        \"max\": 1,\n        \"num_unique_values\": 2,\n        \"samples\": [\n          0,\n          1\n        ],\n        \"semantic_type\": \"\",\n        \"description\": \"\"\n      }\n    },\n    {\n      \"column\": \"sentence\",\n      \"properties\": {\n        \"dtype\": \"string\",\n        \"num_unique_values\": 9695,\n        \"samples\": [\n          \"\\\"FNAF JR\\u2019s PART 1 - HUNTED BY POSSESSED ANIMATRONICS.\\\" is a title of a video about \",\n          \"\\\"Busting KLOMBO Myths That Are 100% Real\\\" is a title of a video about \"\n        ],\n        \"semantic_type\": \"\",\n        \"description\": \"\"\n      }\n    },\n    {\n      \"column\": \"expected\",\n      \"properties\": {\n        \"dtype\": \"string\",\n        \"num_unique_values\": 9695,\n        \"samples\": [\n          \"\\\"FNAF JR\\u2019s PART 1 - HUNTED BY POSSESSED ANIMATRONICS.\\\" is a title of a video about Gaming and Entertainment.\",\n          \"\\\"Busting KLOMBO Myths That Are 100% Real\\\" is a title of a video about Gaming and Entertainment.\"\n        ],\n        \"semantic_type\": \"\",\n        \"description\": \"\"\n      }\n    }\n  ]\n}",
              "type": "dataframe",
              "variable_name": "test_data"
            },
            "text/html": [
              "\n",
              "  <div id=\"df-2609378b-34e9-4bc6-af8e-4a216b2127ed\" class=\"colab-df-container\">\n",
              "    <div>\n",
              "<style scoped>\n",
              "    .dataframe tbody tr th:only-of-type {\n",
              "        vertical-align: middle;\n",
              "    }\n",
              "\n",
              "    .dataframe tbody tr th {\n",
              "        vertical-align: top;\n",
              "    }\n",
              "\n",
              "    .dataframe thead th {\n",
              "        text-align: right;\n",
              "    }\n",
              "</style>\n",
              "<table border=\"1\" class=\"dataframe\">\n",
              "  <thead>\n",
              "    <tr style=\"text-align: right;\">\n",
              "      <th></th>\n",
              "      <th>title</th>\n",
              "      <th>tags</th>\n",
              "      <th>sentence</th>\n",
              "      <th>expected</th>\n",
              "    </tr>\n",
              "  </thead>\n",
              "  <tbody>\n",
              "    <tr>\n",
              "      <th>0</th>\n",
              "      <td>Ray J Talks Justin Bieber Beef,  Raycon Earbud...</td>\n",
              "      <td>1</td>\n",
              "      <td>\"Ray J Talks Justin Bieber Beef,  Raycon Earbu...</td>\n",
              "      <td>\"Ray J Talks Justin Bieber Beef,  Raycon Earbu...</td>\n",
              "    </tr>\n",
              "    <tr>\n",
              "      <th>1</th>\n",
              "      <td>Gervonta Davis immediately after the Weigh In ...</td>\n",
              "      <td>0</td>\n",
              "      <td>\"Gervonta Davis immediately after the Weigh In...</td>\n",
              "      <td>\"Gervonta Davis immediately after the Weigh In...</td>\n",
              "    </tr>\n",
              "    <tr>\n",
              "      <th>2</th>\n",
              "      <td>The First Couple To Ever Move In Together (ft....</td>\n",
              "      <td>0</td>\n",
              "      <td>\"The First Couple To Ever Move In Together (ft...</td>\n",
              "      <td>\"The First Couple To Ever Move In Together (ft...</td>\n",
              "    </tr>\n",
              "    <tr>\n",
              "      <th>3</th>\n",
              "      <td>Who is Lolbit? - FNAF Facts #Shorts #FNAF</td>\n",
              "      <td>0</td>\n",
              "      <td>\"Who is Lolbit? - FNAF Facts #Shorts #FNAF\" is...</td>\n",
              "      <td>\"Who is Lolbit? - FNAF Facts #Shorts #FNAF\" is...</td>\n",
              "    </tr>\n",
              "    <tr>\n",
              "      <th>4</th>\n",
              "      <td>Kyle Larson Doesn't Hold Back On Contact With ...</td>\n",
              "      <td>0</td>\n",
              "      <td>\"Kyle Larson Doesn't Hold Back On Contact With...</td>\n",
              "      <td>\"Kyle Larson Doesn't Hold Back On Contact With...</td>\n",
              "    </tr>\n",
              "  </tbody>\n",
              "</table>\n",
              "</div>\n",
              "    <div class=\"colab-df-buttons\">\n",
              "\n",
              "  <div class=\"colab-df-container\">\n",
              "    <button class=\"colab-df-convert\" onclick=\"convertToInteractive('df-2609378b-34e9-4bc6-af8e-4a216b2127ed')\"\n",
              "            title=\"Convert this dataframe to an interactive table.\"\n",
              "            style=\"display:none;\">\n",
              "\n",
              "  <svg xmlns=\"http://www.w3.org/2000/svg\" height=\"24px\" viewBox=\"0 -960 960 960\">\n",
              "    <path d=\"M120-120v-720h720v720H120Zm60-500h600v-160H180v160Zm220 220h160v-160H400v160Zm0 220h160v-160H400v160ZM180-400h160v-160H180v160Zm440 0h160v-160H620v160ZM180-180h160v-160H180v160Zm440 0h160v-160H620v160Z\"/>\n",
              "  </svg>\n",
              "    </button>\n",
              "\n",
              "  <style>\n",
              "    .colab-df-container {\n",
              "      display:flex;\n",
              "      gap: 12px;\n",
              "    }\n",
              "\n",
              "    .colab-df-convert {\n",
              "      background-color: #E8F0FE;\n",
              "      border: none;\n",
              "      border-radius: 50%;\n",
              "      cursor: pointer;\n",
              "      display: none;\n",
              "      fill: #1967D2;\n",
              "      height: 32px;\n",
              "      padding: 0 0 0 0;\n",
              "      width: 32px;\n",
              "    }\n",
              "\n",
              "    .colab-df-convert:hover {\n",
              "      background-color: #E2EBFA;\n",
              "      box-shadow: 0px 1px 2px rgba(60, 64, 67, 0.3), 0px 1px 3px 1px rgba(60, 64, 67, 0.15);\n",
              "      fill: #174EA6;\n",
              "    }\n",
              "\n",
              "    .colab-df-buttons div {\n",
              "      margin-bottom: 4px;\n",
              "    }\n",
              "\n",
              "    [theme=dark] .colab-df-convert {\n",
              "      background-color: #3B4455;\n",
              "      fill: #D2E3FC;\n",
              "    }\n",
              "\n",
              "    [theme=dark] .colab-df-convert:hover {\n",
              "      background-color: #434B5C;\n",
              "      box-shadow: 0px 1px 3px 1px rgba(0, 0, 0, 0.15);\n",
              "      filter: drop-shadow(0px 1px 2px rgba(0, 0, 0, 0.3));\n",
              "      fill: #FFFFFF;\n",
              "    }\n",
              "  </style>\n",
              "\n",
              "    <script>\n",
              "      const buttonEl =\n",
              "        document.querySelector('#df-2609378b-34e9-4bc6-af8e-4a216b2127ed button.colab-df-convert');\n",
              "      buttonEl.style.display =\n",
              "        google.colab.kernel.accessAllowed ? 'block' : 'none';\n",
              "\n",
              "      async function convertToInteractive(key) {\n",
              "        const element = document.querySelector('#df-2609378b-34e9-4bc6-af8e-4a216b2127ed');\n",
              "        const dataTable =\n",
              "          await google.colab.kernel.invokeFunction('convertToInteractive',\n",
              "                                                    [key], {});\n",
              "        if (!dataTable) return;\n",
              "\n",
              "        const docLinkHtml = 'Like what you see? Visit the ' +\n",
              "          '<a target=\"_blank\" href=https://colab.research.google.com/notebooks/data_table.ipynb>data table notebook</a>'\n",
              "          + ' to learn more about interactive tables.';\n",
              "        element.innerHTML = '';\n",
              "        dataTable['output_type'] = 'display_data';\n",
              "        await google.colab.output.renderOutput(dataTable, element);\n",
              "        const docLink = document.createElement('div');\n",
              "        docLink.innerHTML = docLinkHtml;\n",
              "        element.appendChild(docLink);\n",
              "      }\n",
              "    </script>\n",
              "  </div>\n",
              "\n",
              "\n",
              "<div id=\"df-44c5f338-5971-4ce8-81aa-729d943b65f8\">\n",
              "  <button class=\"colab-df-quickchart\" onclick=\"quickchart('df-44c5f338-5971-4ce8-81aa-729d943b65f8')\"\n",
              "            title=\"Suggest charts\"\n",
              "            style=\"display:none;\">\n",
              "\n",
              "<svg xmlns=\"http://www.w3.org/2000/svg\" height=\"24px\"viewBox=\"0 0 24 24\"\n",
              "     width=\"24px\">\n",
              "    <g>\n",
              "        <path d=\"M19 3H5c-1.1 0-2 .9-2 2v14c0 1.1.9 2 2 2h14c1.1 0 2-.9 2-2V5c0-1.1-.9-2-2-2zM9 17H7v-7h2v7zm4 0h-2V7h2v10zm4 0h-2v-4h2v4z\"/>\n",
              "    </g>\n",
              "</svg>\n",
              "  </button>\n",
              "\n",
              "<style>\n",
              "  .colab-df-quickchart {\n",
              "      --bg-color: #E8F0FE;\n",
              "      --fill-color: #1967D2;\n",
              "      --hover-bg-color: #E2EBFA;\n",
              "      --hover-fill-color: #174EA6;\n",
              "      --disabled-fill-color: #AAA;\n",
              "      --disabled-bg-color: #DDD;\n",
              "  }\n",
              "\n",
              "  [theme=dark] .colab-df-quickchart {\n",
              "      --bg-color: #3B4455;\n",
              "      --fill-color: #D2E3FC;\n",
              "      --hover-bg-color: #434B5C;\n",
              "      --hover-fill-color: #FFFFFF;\n",
              "      --disabled-bg-color: #3B4455;\n",
              "      --disabled-fill-color: #666;\n",
              "  }\n",
              "\n",
              "  .colab-df-quickchart {\n",
              "    background-color: var(--bg-color);\n",
              "    border: none;\n",
              "    border-radius: 50%;\n",
              "    cursor: pointer;\n",
              "    display: none;\n",
              "    fill: var(--fill-color);\n",
              "    height: 32px;\n",
              "    padding: 0;\n",
              "    width: 32px;\n",
              "  }\n",
              "\n",
              "  .colab-df-quickchart:hover {\n",
              "    background-color: var(--hover-bg-color);\n",
              "    box-shadow: 0 1px 2px rgba(60, 64, 67, 0.3), 0 1px 3px 1px rgba(60, 64, 67, 0.15);\n",
              "    fill: var(--button-hover-fill-color);\n",
              "  }\n",
              "\n",
              "  .colab-df-quickchart-complete:disabled,\n",
              "  .colab-df-quickchart-complete:disabled:hover {\n",
              "    background-color: var(--disabled-bg-color);\n",
              "    fill: var(--disabled-fill-color);\n",
              "    box-shadow: none;\n",
              "  }\n",
              "\n",
              "  .colab-df-spinner {\n",
              "    border: 2px solid var(--fill-color);\n",
              "    border-color: transparent;\n",
              "    border-bottom-color: var(--fill-color);\n",
              "    animation:\n",
              "      spin 1s steps(1) infinite;\n",
              "  }\n",
              "\n",
              "  @keyframes spin {\n",
              "    0% {\n",
              "      border-color: transparent;\n",
              "      border-bottom-color: var(--fill-color);\n",
              "      border-left-color: var(--fill-color);\n",
              "    }\n",
              "    20% {\n",
              "      border-color: transparent;\n",
              "      border-left-color: var(--fill-color);\n",
              "      border-top-color: var(--fill-color);\n",
              "    }\n",
              "    30% {\n",
              "      border-color: transparent;\n",
              "      border-left-color: var(--fill-color);\n",
              "      border-top-color: var(--fill-color);\n",
              "      border-right-color: var(--fill-color);\n",
              "    }\n",
              "    40% {\n",
              "      border-color: transparent;\n",
              "      border-right-color: var(--fill-color);\n",
              "      border-top-color: var(--fill-color);\n",
              "    }\n",
              "    60% {\n",
              "      border-color: transparent;\n",
              "      border-right-color: var(--fill-color);\n",
              "    }\n",
              "    80% {\n",
              "      border-color: transparent;\n",
              "      border-right-color: var(--fill-color);\n",
              "      border-bottom-color: var(--fill-color);\n",
              "    }\n",
              "    90% {\n",
              "      border-color: transparent;\n",
              "      border-bottom-color: var(--fill-color);\n",
              "    }\n",
              "  }\n",
              "</style>\n",
              "\n",
              "  <script>\n",
              "    async function quickchart(key) {\n",
              "      const quickchartButtonEl =\n",
              "        document.querySelector('#' + key + ' button');\n",
              "      quickchartButtonEl.disabled = true;  // To prevent multiple clicks.\n",
              "      quickchartButtonEl.classList.add('colab-df-spinner');\n",
              "      try {\n",
              "        const charts = await google.colab.kernel.invokeFunction(\n",
              "            'suggestCharts', [key], {});\n",
              "      } catch (error) {\n",
              "        console.error('Error during call to suggestCharts:', error);\n",
              "      }\n",
              "      quickchartButtonEl.classList.remove('colab-df-spinner');\n",
              "      quickchartButtonEl.classList.add('colab-df-quickchart-complete');\n",
              "    }\n",
              "    (() => {\n",
              "      let quickchartButtonEl =\n",
              "        document.querySelector('#df-44c5f338-5971-4ce8-81aa-729d943b65f8 button');\n",
              "      quickchartButtonEl.style.display =\n",
              "        google.colab.kernel.accessAllowed ? 'block' : 'none';\n",
              "    })();\n",
              "  </script>\n",
              "</div>\n",
              "\n",
              "    </div>\n",
              "  </div>\n"
            ],
            "text/plain": [
              "                                               title  tags  \\\n",
              "0  Ray J Talks Justin Bieber Beef,  Raycon Earbud...     1   \n",
              "1  Gervonta Davis immediately after the Weigh In ...     0   \n",
              "2  The First Couple To Ever Move In Together (ft....     0   \n",
              "3          Who is Lolbit? - FNAF Facts #Shorts #FNAF     0   \n",
              "4  Kyle Larson Doesn't Hold Back On Contact With ...     0   \n",
              "\n",
              "                                            sentence  \\\n",
              "0  \"Ray J Talks Justin Bieber Beef,  Raycon Earbu...   \n",
              "1  \"Gervonta Davis immediately after the Weigh In...   \n",
              "2  \"The First Couple To Ever Move In Together (ft...   \n",
              "3  \"Who is Lolbit? - FNAF Facts #Shorts #FNAF\" is...   \n",
              "4  \"Kyle Larson Doesn't Hold Back On Contact With...   \n",
              "\n",
              "                                            expected  \n",
              "0  \"Ray J Talks Justin Bieber Beef,  Raycon Earbu...  \n",
              "1  \"Gervonta Davis immediately after the Weigh In...  \n",
              "2  \"The First Couple To Ever Move In Together (ft...  \n",
              "3  \"Who is Lolbit? - FNAF Facts #Shorts #FNAF\" is...  \n",
              "4  \"Kyle Larson Doesn't Hold Back On Contact With...  "
            ]
          },
          "execution_count": 11,
          "metadata": {},
          "output_type": "execute_result"
        }
      ],
      "source": [
        "test_data = pd.read_csv('/content/drive/MyDrive/Deep/GPT2_FT/test_Dataset_v3.csv')\n",
        "\n",
        "def expected_output(entry):\n",
        "  if entry['tags'] == 1:\n",
        "    return entry['sentence'] + \"Gaming and Entertainment.\"\n",
        "  else:\n",
        "    return entry['sentence'] + \"Not Gaming and Entertainment.\"\n",
        "\n",
        "# add new col of 'expected'\n",
        "test_data['expected'] = test_data.apply(expected_output, axis=1)\n",
        "test_data.head()\n",
        "\n"
      ]
    },
    {
      "cell_type": "code",
      "execution_count": null,
      "metadata": {
        "colab": {
          "base_uri": "https://localhost:8080/"
        },
        "id": "nZEtfRZ1pbS9",
        "outputId": "88c550c3-0a76-4059-bb54-bd15f50a3a7e"
      },
      "outputs": [
        {
          "name": "stdout",
          "output_type": "stream",
          "text": [
            "\"Gervonta Davis immediately after the Weigh In | Davis vs Romero\" is a title of a video about \n",
            "\"Gervonta Davis immediately after the Weigh In | Davis vs Romero\" is a title of a video about Not Gaming and Entertainment.\n"
          ]
        }
      ],
      "source": [
        "for idx in range(len(test_data)):\n",
        "  print(test_data['sentence'][idx+1])\n",
        "  print(test_data['expected'][idx+1])\n",
        "  break"
      ]
    },
    {
      "cell_type": "code",
      "execution_count": null,
      "metadata": {
        "colab": {
          "base_uri": "https://localhost:8080/"
        },
        "id": "QVTzaiVH6kmi",
        "outputId": "14f42f1d-80d7-4775-9a49-185273b78ae8"
      },
      "outputs": [
        {
          "name": "stderr",
          "output_type": "stream",
          "text": [
            "100%|██████████| 9695/9695 [11:45<00:00, 13.75it/s]\n"
          ]
        },
        {
          "name": "stdout",
          "output_type": "stream",
          "text": [
            "Table saved as 'gpt2_responses.csv'.\n"
          ]
        }
      ],
      "source": [
        "from sklearn.metrics import accuracy_score, confusion_matrix, top_k_accuracy_score, f1_score\n",
        "import pandas as pd\n",
        "from tqdm import tqdm\n",
        "\n",
        "# Manually define the label encoding\n",
        "label_mapping = {\n",
        "    \"Gaming and Entertainment.\": 1,\n",
        "    \"Not Gaming and Entertainment.\": 0\n",
        "}\n",
        "\n",
        "# Helper function to extract the last part of the sentence (label)\n",
        "def extract_label(sentence):\n",
        "    if sentence.endswith(\"Not Gaming and Entertainment.\"):\n",
        "        return \"Not Gaming and Entertainment.\"\n",
        "    elif sentence.endswith(\"Gaming and Entertainment.\"):\n",
        "        return \"Gaming and Entertainment.\"\n",
        "    else:\n",
        "        return None  # Handle unexpected labels\n",
        "\n",
        "def generate_response(prompt, top_k=1):\n",
        "    # Tokenize the input prompt and move it to the same device as the model\n",
        "    inputs = tokenizer.encode(prompt, return_tensors='pt').to(device)\n",
        "\n",
        "    # Generate multiple output sequences using GPT-2 (up to top_k sequences)\n",
        "    outputs = model.generate(\n",
        "        inputs,\n",
        "        max_length=128,\n",
        "        num_return_sequences=top_k,  # Generate up to top_k sequences\n",
        "        no_repeat_ngram_size=2,\n",
        "        pad_token_id=tokenizer.eos_token_id,\n",
        "        # do_sample=True,  # Enable sampling to generate diverse sequences\n",
        "        # top_k=top_k,  # Set top_k sampling\n",
        "        # temperature=0.7  # Adjust temperature for diversity\n",
        "    )\n",
        "\n",
        "    # Decode each of the generated sequences and return as a list of strings\n",
        "    responses = [tokenizer.decode(output, skip_special_tokens=True) for output in outputs]\n",
        "    return responses  # Return the list of responses\n",
        "\n",
        "# List to store results\n",
        "results = []\n",
        "true_labels = []\n",
        "predicted_labels_top1 = []  # To store top-1 predictions\n",
        "\n",
        "# Loop through each row in the test data\n",
        "for idx, row in tqdm(test_data.iterrows(), total=len(test_data)):\n",
        "    input_sentence = row['sentence']\n",
        "    expected_label = extract_label(row['expected'])  # Extract true label from the sentence\n",
        "\n",
        "    # Map true labels using the label_mapping\n",
        "    if expected_label in label_mapping:\n",
        "        true_labels.append(label_mapping[expected_label])\n",
        "    else:\n",
        "        true_labels.append(-1)  # Handle unexpected labels\n",
        "\n",
        "    # Prepare the input sentence\n",
        "    prompt = input_sentence[:-1]\n",
        "\n",
        "    # Generate GPT-2's ranked responses\n",
        "    ranked_responses = generate_response(prompt)\n",
        "\n",
        "    # Process the predicted responses and map them to labels\n",
        "    top1_response = ranked_responses[0]  # Get top-1 response\n",
        "    top1_label = label_mapping.get(extract_label(top1_response), -1)  # Map to label or -1 for unknown\n",
        "\n",
        "\n",
        "    # Store top-1 prediction\n",
        "    predicted_labels_top1.append(top1_label)\n",
        "\n",
        "    # Append the input sentence, expected label, and GPT-2 response to the results list\n",
        "    results.append({\n",
        "        'input': input_sentence,\n",
        "        'prompt': prompt,\n",
        "        'label': expected_label,\n",
        "        'expected': row['expected'],\n",
        "        'GPT2_top1': top1_response,\n",
        "        'GPT2_ranked': ranked_responses\n",
        "    })\n",
        "\n",
        "# Create a DataFrame from the results\n",
        "df_results = pd.DataFrame(results)\n",
        "\n",
        "# Save to a CSV file\n",
        "df_results.to_csv('/content/drive/MyDrive/Deep/GPT2_FT/gpt2_responses.csv', index=False)\n",
        "print(\"Table saved as 'gpt2_responses.csv'.\")\n"
      ]
    },
    {
      "cell_type": "code",
      "execution_count": null,
      "metadata": {
        "colab": {
          "base_uri": "https://localhost:8080/"
        },
        "id": "ef1kU8LQngyA",
        "outputId": "d6f4780b-9930-4591-8b8d-62a788ab8428"
      },
      "outputs": [
        {
          "name": "stdout",
          "output_type": "stream",
          "text": [
            "Accuracy (Top-1): 79.40%\n",
            "F1 Score: 0.74\n",
            "Confusion Matrix:\n",
            " [[4871 1018]\n",
            " [ 979 2826]]\n"
          ]
        }
      ],
      "source": [
        "# Filter valid predictions (i.e., excluding -1 values)\n",
        "valid_indices = [i for i, val in enumerate(predicted_labels_top1) if val != -1 and true_labels[i] != -1]\n",
        "filtered_true_labels = [true_labels[i] for i in valid_indices]\n",
        "filtered_predicted_labels_top1 = [predicted_labels_top1[i] for i in valid_indices]\n",
        "\n",
        "# Calculate metrics\n",
        "accuracy = accuracy_score(filtered_true_labels, filtered_predicted_labels_top1)\n",
        "f1 = f1_score(filtered_true_labels, filtered_predicted_labels_top1, average='binary')\n",
        "\n",
        "# Calculate top-1 accuracy (equivalent to normal accuracy here)\n",
        "top1_accuracy = accuracy\n",
        "\n",
        "# Generate the confusion matrix for top-1 predictions\n",
        "conf_matrix = confusion_matrix(filtered_true_labels, filtered_predicted_labels_top1)\n",
        "\n",
        "# Print metrics\n",
        "print(f\"Accuracy (Top-1): {accuracy * 100:.2f}%\")\n",
        "print(f\"F1 Score: {f1:.2f}\")\n",
        "print(\"Confusion Matrix:\\n\", conf_matrix)\n"
      ]
    },
    {
      "cell_type": "code",
      "execution_count": null,
      "metadata": {
        "colab": {
          "base_uri": "https://localhost:8080/",
          "height": 547
        },
        "id": "BJDNtbL3jQ01",
        "outputId": "dcb37c0e-6c73-4021-d659-bd70bff12103"
      },
      "outputs": [
        {
          "data": {
            "image/png": "[encoded data removed]",
            "text/plain": [
              "<Figure size 800x600 with 2 Axes>"
            ]
          },
          "metadata": {},
          "output_type": "display_data"
        }
      ],
      "source": [
        "\n",
        "# Create a heatmap for the confusion matrix\n",
        "import matplotlib.pyplot as plt\n",
        "import seaborn as sns\n",
        "\n",
        "plt.figure(figsize=(8, 6))\n",
        "sns.heatmap(conf_matrix, annot=True, fmt=\"d\", cmap=\"Blues\", xticklabels=[\"Not Gaming and Entertainment\", \"Gaming and Entertainment\"], yticklabels=[\"Not Gaming and Entertainment\", \"Gaming and Entertainment\"])\n",
        "plt.title(\"Confusion Matrix\")\n",
        "plt.xlabel(\"Predicted\")\n",
        "plt.ylabel(\"True\")\n",
        "plt.show()\n"
      ]
    },
    {
      "cell_type": "code",
      "execution_count": null,
      "metadata": {
        "colab": {
          "base_uri": "https://localhost:8080/"
        },
        "id": "-rwYdR6R5nkK",
        "outputId": "176e646f-a002-462a-8f29-19415129b626"
      },
      "outputs": [
        {
          "name": "stdout",
          "output_type": "stream",
          "text": [
            "------------------------------\n",
            "Final Results:\n",
            "\tTop-1 accuracy: 79.40%\n",
            "\tPrecision: 73.52%\n",
            "\tRecall: 74.27%\n",
            "\tF1 Score: 73.89%\n",
            "------------------------------\n"
          ]
        }
      ],
      "source": [
        "# final results:\n",
        "print(\"-\"*30)\n",
        "print(\"Final Results:\")\n",
        "print(f\"\\tTop-1 accuracy: {100* accuracy:.2f}%\")\n",
        "print(f\"\\tPrecision: {100*(conf_matrix[1,1]/(conf_matrix[1,1]+conf_matrix[0,1])):.2f}%\")\n",
        "print(f\"\\tRecall: {100*(conf_matrix[1,1]/(conf_matrix[1,1]+conf_matrix[1,0])):.2f}%\")\n",
        "print(f\"\\tF1 Score: {100*f1:.2f}%\")\n",
        "print(\"-\"*30)"
      ]
    },
    {
      "cell_type": "code",
      "execution_count": null,
      "metadata": {
        "id": "fptv4vha6snd"
      },
      "outputs": [],
      "source": [
        "# save results and final model\n",
        "final_scores = {\n",
        "    'Top-1 Accuracy': 100* accuracy,\n",
        "    'Precision': 100*(conf_matrix[1,1]/(conf_matrix[1,1]+conf_matrix[0,1])),\n",
        "    'Recall': 100*(conf_matrix[1,1]/(conf_matrix[1,1]+conf_matrix[1,0])),\n",
        "    'F1 Score': 100*f1,\n",
        "    'Confusion Matrix': conf_matrix\n",
        "}\n",
        "\n",
        "saved_data = {'model': model.state_dict(), 'final_results': df_results, 'scores': final_scores}\n",
        "torch.save(saved_data, '/content/drive/MyDrive/Deep/GPT2_FT/trained_model_GPT2_final.pth')"
      ]
    },
    {
      "cell_type": "code",
      "execution_count": 20,
      "metadata": {
        "colab": {
          "base_uri": "https://localhost:8080/"
        },
        "id": "HRYP3rNu-YkQ",
        "outputId": "8ec2457e-2232-43d1-8c7d-c3cb5b450cda"
      },
      "outputs": [
        {
          "name": "stdout",
          "output_type": "stream",
          "text": [
            "You: (enter a title)\n",
            "News TODAY | BBC\n",
            "LoRa: \"News TODAY | BBC\" is a title of a video about Not Gaming and Entertainment.\n",
            "You: (enter a title)\n",
            "Gaming POV\n",
            "LoRa: \"Gaming POV\" is a title of a video about Gaming and Entertainment.\n",
            "You: (enter a title)\n",
            "Deep Learning\n",
            "LoRa: \"Deep Learning\" is a title of a video about Not Gaming and Entertainment.\n",
            "You: (enter a title)\n",
            "LoRa Training you deep NN\n",
            "LoRa: \"LoRa Training you deep NN\" is a title of a video about Not Gaming and Entertainment.\n",
            "You: (enter a title)\n",
            "Basic Integrals\n",
            "LoRa: \"Basic Integrals\" is a title of a video about Not Gaming and Entertainment.\n",
            "You: (enter a title)\n",
            "GTA V killing them all\n",
            "LoRa: \"GTA V killing them all\" is a title of a video about Gaming and Entertainment.\n",
            "You: (enter a title)\n",
            "VLSI timing analysis\n",
            "LoRa: \"VLSI timing analysis\" is a title of a video about Not Gaming and Entertainment.\n",
            "You: (enter a title)\n",
            "exit\n",
            "Exiting...\n"
          ]
        }
      ],
      "source": [
        "# Loop to interact with GPT-2 continuously\n",
        "while True:\n",
        "    # Get user input\n",
        "    prompt = input(\"You: (enter a title)\\n\")\n",
        "\n",
        "    # Break the loop if the user types 'exit'\n",
        "    if prompt.lower() == \"exit\":\n",
        "        print(\"Exiting...\")\n",
        "        break\n",
        "\n",
        "    prompt = \"\\\"\" + prompt + \"\\\" is a title of a video about\"\n",
        "\n",
        "    # Generate and print GPT-2's response\n",
        "    response = generate_response(prompt)\n",
        "    print(\"LoRa:\", response[0])"
      ]
    }
  ],
  "metadata": {
    "accelerator": "GPU",
    "colab": {
      "gpuType": "T4",
      "provenance": []
    },
    "kernelspec": {
      "display_name": "conda_pytorch_p310",
      "language": "python",
      "name": "conda_pytorch_p310"
    },
    "language_info": {
      "codemirror_mode": {
        "name": "ipython",
        "version": 3
      },
      "file_extension": ".py",
      "mimetype": "text/x-python",
      "name": "python",
      "nbconvert_exporter": "python",
      "pygments_lexer": "ipython3",
      "version": "3.10.14"
    }
  },
  "nbformat": 4,
  "nbformat_minor": 0
}
